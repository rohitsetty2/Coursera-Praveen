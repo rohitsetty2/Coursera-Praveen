{
  "metadata": {
    "language_info": {
      "codemirror_mode": {
        "name": "python",
        "version": 3
      },
      "file_extension": ".py",
      "mimetype": "text/x-python",
      "name": "python",
      "nbconvert_exporter": "python",
      "pygments_lexer": "ipython3",
      "version": "3.8"
    },
    "kernelspec": {
      "name": "python",
      "display_name": "Python (Pyodide)",
      "language": "python"
    }
  },
  "nbformat_minor": 4,
  "nbformat": 4,
  "cells": [
    {
      "cell_type": "markdown",
      "source": "__Exercise 2__\n\n__Mark Down 2.Title__",
      "metadata": {}
    },
    {
      "cell_type": "markdown",
      "source": "__Exercise 3 - Create a markdown cell for an introduction. (1 pt)__\n\n\n__Data Science Tools and Ecosystem__\n\n_its an introductionary statement and Praveen is the Author_",
      "metadata": {}
    },
    {
      "cell_type": "markdown",
      "source": "__Exercise 4-Dslanguages (3 pt)__\n\n__Some of the languages that datascientists use are:__\n1. Python\n2. Java\n3. C++\n4. C\n5. R\n6. Julia\n7. Scala\n8. JavaScript",
      "metadata": {}
    },
    {
      "cell_type": "markdown",
      "source": "__Exercise 5-dslibraries (3 pt)__\n\n__Common Data Science Libraries include:__\n1. Numpy\n2. Pandas\n3. Scipy\n4. Scikit\n5. Keras\n6. TensorFlow\n7. Matplotlib\n8. Keras\n9. SciKit-Learn\n10. PyTorch\n11. Scrapy\n12. BeautifulSoup\n13. LightGBM\n14. ELI5\n15. Theano\n16. NuPIC\n17. Ramp\n18. Pipenv\n19. Bob\n20. PyBrain\n21. Caffe2\n22. Chainer",
      "metadata": {}
    },
    {
      "cell_type": "markdown",
      "source": "__6-dstools (3 pt)__\n|S.No | Tool Name | \n| ------ | ------ |\n| 1 | Apache Spark |\n|2 | Scikit-Learn |\n| 3 | Kera |\n| 4 | Weka |",
      "metadata": {}
    },
    {
      "cell_type": "markdown",
      "source": "__Exercise-7-introarithmatic (1pt)__",
      "metadata": {}
    },
    {
      "cell_type": "code",
      "source": "# 7-introarithmatic\na=10\nb=20\nc=a*b\nprint(c)",
      "metadata": {
        "trusted": true
      },
      "execution_count": 35,
      "outputs": [
        {
          "name": "stdout",
          "text": "200\n",
          "output_type": "stream"
        }
      ]
    },
    {
      "cell_type": "code",
      "source": "d=c/200\ne=d*1000\nf=e-1\nprint(d,\"$$$\",e,\"$$$\",f)",
      "metadata": {
        "trusted": true
      },
      "execution_count": 36,
      "outputs": [
        {
          "name": "stdout",
          "text": "1.0 $$$ 1000.0 $$$ 999.0\n",
          "output_type": "stream"
        }
      ]
    },
    {
      "cell_type": "markdown",
      "source": "__Exercise-8-multiplyandaddintegers (2pt)__",
      "metadata": {}
    },
    {
      "cell_type": "code",
      "source": "# 8-multiplyandaddintegers\n(3*4)+5\n# Result: 17\n",
      "metadata": {
        "trusted": true
      },
      "execution_count": 39,
      "outputs": [
        {
          "execution_count": 39,
          "output_type": "execute_result",
          "data": {
            "text/plain": "17"
          },
          "metadata": {}
        }
      ]
    },
    {
      "cell_type": "markdown",
      "source": "__Exercise-9-hourstominutes (2pt)__",
      "metadata": {}
    },
    {
      "cell_type": "code",
      "source": "# Converting 200 minutes to hours\nhours = 200 / 60\nhours",
      "metadata": {
        "trusted": true
      },
      "execution_count": 38,
      "outputs": [
        {
          "execution_count": 38,
          "output_type": "execute_result",
          "data": {
            "text/plain": "3.3333333333333335"
          },
          "metadata": {}
        }
      ]
    },
    {
      "cell_type": "markdown",
      "source": "__Exercise-10-objectives (3pt)__",
      "metadata": {}
    },
    {
      "cell_type": "markdown",
      "source": "__Objectives:__\n\n* Orderes lists creation\n\n* Unordered lists creation\n\n* Done as per sample if its is regarding lists please inform",
      "metadata": {}
    },
    {
      "cell_type": "markdown",
      "source": "__Exercise-11-Author (2pt)__",
      "metadata": {}
    },
    {
      "cell_type": "markdown",
      "source": "__Author(s)__\n\n\n__Praveen J__",
      "metadata": {}
    },
    {
      "cell_type": "code",
      "source": "",
      "metadata": {},
      "execution_count": null,
      "outputs": []
    }
  ]
}